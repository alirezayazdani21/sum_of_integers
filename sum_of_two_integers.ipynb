{
 "cells": [
  {
   "cell_type": "code",
   "execution_count": 2,
   "id": "a15906a3",
   "metadata": {},
   "outputs": [
    {
     "data": {
      "text/html": [
       "<div>\n",
       "<style scoped>\n",
       "    .dataframe tbody tr th:only-of-type {\n",
       "        vertical-align: middle;\n",
       "    }\n",
       "\n",
       "    .dataframe tbody tr th {\n",
       "        vertical-align: top;\n",
       "    }\n",
       "\n",
       "    .dataframe thead th {\n",
       "        text-align: right;\n",
       "    }\n",
       "</style>\n",
       "<table border=\"1\" class=\"dataframe\">\n",
       "  <thead>\n",
       "    <tr style=\"text-align: right;\">\n",
       "      <th></th>\n",
       "      <th>n</th>\n",
       "      <th>n_sq</th>\n",
       "      <th>N minus n_sq</th>\n",
       "      <th>sqrt(N minus n_sq)</th>\n",
       "      <th>integer</th>\n",
       "    </tr>\n",
       "  </thead>\n",
       "  <tbody>\n",
       "    <tr>\n",
       "      <th>17</th>\n",
       "      <td>17</td>\n",
       "      <td>289</td>\n",
       "      <td>3364</td>\n",
       "      <td>58.0</td>\n",
       "      <td>True</td>\n",
       "    </tr>\n",
       "    <tr>\n",
       "      <th>38</th>\n",
       "      <td>38</td>\n",
       "      <td>1444</td>\n",
       "      <td>2209</td>\n",
       "      <td>47.0</td>\n",
       "      <td>True</td>\n",
       "    </tr>\n",
       "    <tr>\n",
       "      <th>47</th>\n",
       "      <td>47</td>\n",
       "      <td>2209</td>\n",
       "      <td>1444</td>\n",
       "      <td>38.0</td>\n",
       "      <td>True</td>\n",
       "    </tr>\n",
       "    <tr>\n",
       "      <th>58</th>\n",
       "      <td>58</td>\n",
       "      <td>3364</td>\n",
       "      <td>289</td>\n",
       "      <td>17.0</td>\n",
       "      <td>True</td>\n",
       "    </tr>\n",
       "  </tbody>\n",
       "</table>\n",
       "</div>"
      ],
      "text/plain": [
       "     n  n_sq  N minus n_sq  sqrt(N minus n_sq)  integer\n",
       "17  17   289          3364                58.0     True\n",
       "38  38  1444          2209                47.0     True\n",
       "47  47  2209          1444                38.0     True\n",
       "58  58  3364           289                17.0     True"
      ]
     },
     "execution_count": 2,
     "metadata": {},
     "output_type": "execute_result"
    }
   ],
   "source": [
    "import numpy as np\n",
    "import pandas as pd\n",
    "\n",
    "#Choose N to test for sum of two squares\n",
    "N=3653\n",
    "sqrt_N = int(np.sqrt(N))\n",
    "#print(sqrt_N)\n",
    "test_df = pd.DataFrame()\n",
    "for n in range(1,sqrt_N+1):\n",
    "    loop_df = pd.DataFrame({'n':n,'n_sq':n**2,\n",
    "                            'N minus n_sq':N-n**2,\n",
    "                            'sqrt(N minus n_sq)':np.sqrt(N-n**2),\n",
    "                           'integer':float.is_integer(np.sqrt(N-n**2))},index=[0])\n",
    "    test_df = pd.concat([test_df,loop_df])\n",
    "test_df.index=range(1,sqrt_N+1)\n",
    "test_df[test_df['integer']==True]"
   ]
  }
 ],
 "metadata": {
  "kernelspec": {
   "display_name": "Python 3 (ipykernel)",
   "language": "python",
   "name": "python3"
  },
  "language_info": {
   "codemirror_mode": {
    "name": "ipython",
    "version": 3
   },
   "file_extension": ".py",
   "mimetype": "text/x-python",
   "name": "python",
   "nbconvert_exporter": "python",
   "pygments_lexer": "ipython3",
   "version": "3.8.12"
  }
 },
 "nbformat": 4,
 "nbformat_minor": 5
}
